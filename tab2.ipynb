{
 "cells": [
  {
   "cell_type": "markdown",
   "metadata": {},
   "source": [
    "# Imports"
   ]
  },
  {
   "cell_type": "code",
   "execution_count": 1,
   "metadata": {},
   "outputs": [
    {
     "name": "stdout",
     "output_type": "stream",
     "text": [
      "WARNING:tensorflow:From C:\\Users\\Nilson\\AppData\\Local\\Packages\\PythonSoftwareFoundation.Python.3.11_qbz5n2kfra8p0\\LocalCache\\local-packages\\Python311\\site-packages\\keras\\src\\losses.py:2976: The name tf.losses.sparse_softmax_cross_entropy is deprecated. Please use tf.compat.v1.losses.sparse_softmax_cross_entropy instead.\n",
      "\n"
     ]
    },
    {
     "name": "stderr",
     "output_type": "stream",
     "text": [
      "[nltk_data] Downloading package punkt to\n",
      "[nltk_data]     C:\\Users\\Nilson\\AppData\\Roaming\\nltk_data...\n",
      "[nltk_data]   Package punkt is already up-to-date!\n",
      "[nltk_data] Downloading package stopwords to\n",
      "[nltk_data]     C:\\Users\\Nilson\\AppData\\Roaming\\nltk_data...\n",
      "[nltk_data]   Package stopwords is already up-to-date!\n"
     ]
    },
    {
     "data": {
      "text/plain": [
       "True"
      ]
     },
     "execution_count": 1,
     "metadata": {},
     "output_type": "execute_result"
    }
   ],
   "source": [
    "import re\n",
    "import nltk\n",
    "import json\n",
    "import time\n",
    "import csv\n",
    "import concurrent.futures\n",
    "import os\n",
    "\n",
    "from concurrent.futures import ThreadPoolExecutor\n",
    "from deep_translator import GoogleTranslator\n",
    "import pandas as pd\n",
    "import networkx as nx\n",
    "import matplotlib.pyplot as plt\n",
    "import numpy as np\n",
    "from tqdm import tqdm\n",
    "from transformers import pipeline\n",
    "\n",
    "from nltk import word_tokenize, sent_tokenize\n",
    "from nltk.corpus import stopwords\n",
    "from mpl_toolkits.mplot3d import Axes3D\n",
    "from itertools import islice\n",
    "\n",
    "nltk.download('punkt')\n",
    "nltk.download('stopwords')"
   ]
  },
  {
   "cell_type": "code",
   "execution_count": 2,
   "metadata": {},
   "outputs": [
    {
     "name": "stdout",
     "output_type": "stream",
     "text": [
      "WARNING:tensorflow:From C:\\Users\\Nilson\\AppData\\Local\\Packages\\PythonSoftwareFoundation.Python.3.11_qbz5n2kfra8p0\\LocalCache\\local-packages\\Python311\\site-packages\\keras\\src\\backend.py:873: The name tf.get_default_graph is deprecated. Please use tf.compat.v1.get_default_graph instead.\n",
      "\n"
     ]
    },
    {
     "name": "stderr",
     "output_type": "stream",
     "text": [
      "All PyTorch model weights were used when initializing TFDistilBertForTokenClassification.\n",
      "\n",
      "All the weights of TFDistilBertForTokenClassification were initialized from the PyTorch model.\n",
      "If your task is similar to the task the model of the checkpoint was trained on, you can already use TFDistilBertForTokenClassification for predictions without further training.\n"
     ]
    }
   ],
   "source": [
    "ner_model = pipeline('ner', model='d4data/biomedical-ner-all')"
   ]
  },
  {
   "cell_type": "code",
   "execution_count": 3,
   "metadata": {},
   "outputs": [
    {
     "data": {
      "text/html": [
       "<div>\n",
       "<style scoped>\n",
       "    .dataframe tbody tr th:only-of-type {\n",
       "        vertical-align: middle;\n",
       "    }\n",
       "\n",
       "    .dataframe tbody tr th {\n",
       "        vertical-align: top;\n",
       "    }\n",
       "\n",
       "    .dataframe thead th {\n",
       "        text-align: right;\n",
       "    }\n",
       "</style>\n",
       "<table border=\"1\" class=\"dataframe\">\n",
       "  <thead>\n",
       "    <tr style=\"text-align: right;\">\n",
       "      <th></th>\n",
       "      <th>Unnamed: 0</th>\n",
       "      <th>composicao</th>\n",
       "      <th>nome_medicamento</th>\n",
       "      <th>sentencas_tokenizadas</th>\n",
       "      <th>texto</th>\n",
       "    </tr>\n",
       "  </thead>\n",
       "  <tbody>\n",
       "    <tr>\n",
       "      <th>0</th>\n",
       "      <td>0</td>\n",
       "      <td>composição reumon gel por cada 1 g de gel con...</td>\n",
       "      <td>Reumon Gel</td>\n",
       "      <td>[['reumon', 'gel', 'indicação', 'para', 'que',...</td>\n",
       "      <td>reumon gel                             indicaç...</td>\n",
       "    </tr>\n",
       "    <tr>\n",
       "      <th>1</th>\n",
       "      <td>1</td>\n",
       "      <td>composição cada comprimido contém: fenitoína ...</td>\n",
       "      <td>Hidantal</td>\n",
       "      <td>[['hidantal', 'indicação', 'para', 'que', 'ser...</td>\n",
       "      <td>hidantal                             indicação...</td>\n",
       "    </tr>\n",
       "    <tr>\n",
       "      <th>2</th>\n",
       "      <td>2</td>\n",
       "      <td>composição cada comprimido contém 50 mg de di...</td>\n",
       "      <td>Inflamax</td>\n",
       "      <td>[['inflamax', 'indicação', 'para', 'que', 'ser...</td>\n",
       "      <td>inflamax                             indicação...</td>\n",
       "    </tr>\n",
       "    <tr>\n",
       "      <th>3</th>\n",
       "      <td>3</td>\n",
       "      <td>composição adalat cápsulas cada cápsula de ad...</td>\n",
       "      <td>Adalat</td>\n",
       "      <td>[['adalat', 'indicação', 'para', 'que', 'serve...</td>\n",
       "      <td>adalat                             indicação p...</td>\n",
       "    </tr>\n",
       "    <tr>\n",
       "      <th>4</th>\n",
       "      <td>4</td>\n",
       "      <td>composição gardasil é composto por proteínas ...</td>\n",
       "      <td>Gardasil</td>\n",
       "      <td>[['gardasil', 'indicação', 'para', 'que', 'ser...</td>\n",
       "      <td>gardasil                             indicação...</td>\n",
       "    </tr>\n",
       "  </tbody>\n",
       "</table>\n",
       "</div>"
      ],
      "text/plain": [
       "   Unnamed: 0                                         composicao  \\\n",
       "0           0   composição reumon gel por cada 1 g de gel con...   \n",
       "1           1   composição cada comprimido contém: fenitoína ...   \n",
       "2           2   composição cada comprimido contém 50 mg de di...   \n",
       "3           3   composição adalat cápsulas cada cápsula de ad...   \n",
       "4           4   composição gardasil é composto por proteínas ...   \n",
       "\n",
       "  nome_medicamento                              sentencas_tokenizadas  \\\n",
       "0       Reumon Gel  [['reumon', 'gel', 'indicação', 'para', 'que',...   \n",
       "1         Hidantal  [['hidantal', 'indicação', 'para', 'que', 'ser...   \n",
       "2         Inflamax  [['inflamax', 'indicação', 'para', 'que', 'ser...   \n",
       "3           Adalat  [['adalat', 'indicação', 'para', 'que', 'serve...   \n",
       "4         Gardasil  [['gardasil', 'indicação', 'para', 'que', 'ser...   \n",
       "\n",
       "                                               texto  \n",
       "0  reumon gel                             indicaç...  \n",
       "1  hidantal                             indicação...  \n",
       "2  inflamax                             indicação...  \n",
       "3  adalat                             indicação p...  \n",
       "4  gardasil                             indicação...  "
      ]
     },
     "execution_count": 3,
     "metadata": {},
     "output_type": "execute_result"
    }
   ],
   "source": [
    "bulatorio = pd.read_excel(\"documentos_bulario.xlsx\")\n",
    "bulatorio.head()"
   ]
  },
  {
   "cell_type": "markdown",
   "metadata": {},
   "source": [
    "# Pré processamento"
   ]
  },
  {
   "cell_type": "code",
   "execution_count": 4,
   "metadata": {},
   "outputs": [],
   "source": [
    "def findText(text, frase1, frase2):\n",
    "    default = f'{frase1}(.*?){frase2}'\n",
    "    result = re.search(default, text, re.DOTALL)\n",
    "    if result:\n",
    "        return result.group(1)[2:]\n",
    "    return ''\n",
    "\n",
    "begin = 'quais os males que pode me causar?'\n",
    "end = '.   '\n",
    "\n",
    "dataset = {}\n",
    "\n",
    "for _, row in bulatorio.iterrows():\n",
    "    dataset[row['nome_medicamento']] = findText(row['texto'], begin, end)\n",
    "\n",
    "begin = ' '\n",
    "end = 'composição'\n",
    "\n",
    "for key in dataset:\n",
    "    result = findText(dataset[key], begin, end)\n",
    "\n",
    "    if(result != ''):\n",
    "        dataset[key] = result"
   ]
  },
  {
   "cell_type": "markdown",
   "metadata": {},
   "source": [
    "# Quebrando em sentenças"
   ]
  },
  {
   "cell_type": "code",
   "execution_count": 5,
   "metadata": {},
   "outputs": [],
   "source": [
    "tokenized_sent = {}\n",
    "for name, text in dataset.items():\n",
    "    words = word_tokenize(text)\n",
    "    sentences = sent_tokenize(text)\n",
    "    tokenized_sent[name] = sentences"
   ]
  },
  {
   "cell_type": "code",
   "execution_count": 6,
   "metadata": {},
   "outputs": [
    {
     "data": {
      "text/plain": [
       "['alguns dos efeitos colaterais de reumon podem incluir vermelhidão, urticária, bolinhas ou inchaço na pele']"
      ]
     },
     "execution_count": 6,
     "metadata": {},
     "output_type": "execute_result"
    }
   ],
   "source": [
    "tokenized_sent[\"Reumon Gel\"]"
   ]
  },
  {
   "cell_type": "markdown",
   "metadata": {},
   "source": [
    "# Levando as sentenças para o inglês"
   ]
  },
  {
   "cell_type": "code",
   "execution_count": 16,
   "metadata": {},
   "outputs": [
    {
     "name": "stdout",
     "output_type": "stream",
     "text": [
      "1562\n"
     ]
    }
   ],
   "source": [
    "tokenized_sent_english = {}\n",
    "\n",
    "# Verifica se o arquivo já existe\n",
    "if os.path.exists('tokenized_sent_english.txt'):\n",
    "    # Carrega os dados do arquivo\n",
    "    with open('tokenized_sent_english.txt', 'r', encoding='utf-8') as f:\n",
    "        # Lê cada linha do arquivo\n",
    "        for line in f:\n",
    "            # Divide a linha no primeiro ':'\n",
    "            key, value = line.split(':', 1)\n",
    "            \n",
    "            # Remove espaços em branco extras\n",
    "            key = key.strip()\n",
    "            value = value.strip()\n",
    "            \n",
    "            # Converte a string de lista em uma lista real\n",
    "            # Isso assume que a lista está formatada como uma lista Python\n",
    "            value = eval(value)\n",
    "            \n",
    "            # Adiciona ao dicionário\n",
    "            tokenized_sent_english[key] = value\n",
    "        \n",
    "        print(len(tokenized_sent_english))\n",
    "        \n",
    "else:\n",
    "    # Função para traduzir uma descrição\n",
    "    def translate_symptom(text):\n",
    "        try:\n",
    "            return GoogleTranslator(source='auto', target='english').translate(text)\n",
    "        except Exception as e:\n",
    "            print(f\"Erro ao traduzir o sintoma '{text}': {e}\")\n",
    "            return None\n",
    "        \n",
    "    # Função para salvar o progresso\n",
    "    def save_progress():\n",
    "        with open('tokenized_sent_english.txt', 'w', encoding='utf-8') as f:\n",
    "            for key, values in tokenized_sent_english.items():\n",
    "                f.write(f\"{key}: {values}\\n\")\n",
    "\n",
    "    # Início do tempo\n",
    "    start = time.time()\n",
    "\n",
    "    # Cria um executor de thread\n",
    "    with concurrent.futures.ThreadPoolExecutor() as executor:\n",
    "        # Percorre o dicionário\n",
    "        for i, (key, value) in enumerate(tqdm(tokenized_sent.items())):\n",
    "            # Inicializa a lista para a chave atual\n",
    "            tokenized_sent_english[key] = []\n",
    "            \n",
    "            for text in value:\n",
    "                # Verifique se passou 1 segundo desde o último lote de 5 requisições\n",
    "                if i % 5 == 0 and time.time() - start < 1:\n",
    "                    time.sleep(1 - (time.time() - start))\n",
    "                    start = time.time()\n",
    "\n",
    "                # Traduza o sintoma\n",
    "                future = executor.submit(translate_symptom, text)\n",
    "                try:\n",
    "                    result = future.result()\n",
    "                    if result is not None:\n",
    "                        # Adiciona o resultado à lista para a chave atual\n",
    "                        tokenized_sent_english[key].append(result)\n",
    "                except Exception as e:\n",
    "                    print(f\"Erro ao traduzir a descrição do medicamento: '{key}': {e}\")\n",
    "                    save_progress()\n",
    "\n",
    "    save_progress()\n",
    "    print(len(tokenized_sent_english))\n"
   ]
  },
  {
   "cell_type": "markdown",
   "metadata": {},
   "source": [
    "# Inferindo quais são os efeitos colaterais"
   ]
  },
  {
   "cell_type": "code",
   "execution_count": 15,
   "metadata": {},
   "outputs": [
    {
     "name": "stdout",
     "output_type": "stream",
     "text": [
      "1562\n"
     ]
    }
   ],
   "source": [
    "# Dicionário para armazenar os sintomas\n",
    "sintomas = {}\n",
    "\n",
    "# Verifica se o arquivo já existe\n",
    "if os.path.exists('sintomas.txt'):\n",
    "    # Carrega os dados do arquivo\n",
    "    with open('sintomas.txt', 'r', encoding='utf-8') as f:\n",
    "        # Lê cada linha do arquivo\n",
    "        for line in f:\n",
    "            # Divide a linha no primeiro ':'\n",
    "            key, value = line.split(':', 1)\n",
    "            \n",
    "            # Remove espaços em branco extras\n",
    "            key = key.strip()\n",
    "            value = value.strip()\n",
    "            \n",
    "            # Converte a string de lista em uma lista real\n",
    "            # Isso assume que a lista está formatada como uma lista Python\n",
    "            value = eval(value)\n",
    "            \n",
    "            # Adiciona ao dicionário\n",
    "            sintomas[key] = value\n",
    "\n",
    "        print(len(sintomas))\n",
    "        \n",
    "else:\n",
    "    # Percorre o dicionário de descrições\n",
    "    for medicamento, lista_descricoes in tqdm(tokenized_sent_english.items()):\n",
    "        # Inicializa a lista de sintomas para o medicamento atual\n",
    "        sintomas[medicamento] = []\n",
    "\n",
    "        # Percorre a lista de descrições\n",
    "        for descricao in lista_descricoes:\n",
    "            # Usa o modelo para fazer a predição\n",
    "            predicao = ner_model(descricao)\n",
    "\n",
    "            # Extrai os sintomas da predição com confiança maior ou igual a 60%\n",
    "            sintomas_descricao = [p['word'] for p in predicao if p['entity'] == 'B-Sign_symptom' and p['score'] >= 0.9]\n",
    "\n",
    "            # Adiciona os sintomas à lista de sintomas do medicamento\n",
    "            sintomas[medicamento].extend(sintomas_descricao)\n",
    "\n",
    "    with open('sintomas.txt', 'w', encoding='utf-8') as f:\n",
    "            for key, values in sintomas.items():\n",
    "                f.write(f\"{key}: {values}\\n\")\n"
   ]
  },
  {
   "cell_type": "markdown",
   "metadata": {},
   "source": [
    "# Voltando os efeitos colaterais para o português"
   ]
  },
  {
   "cell_type": "code",
   "execution_count": 17,
   "metadata": {},
   "outputs": [
    {
     "name": "stdout",
     "output_type": "stream",
     "text": [
      "1562\n"
     ]
    }
   ],
   "source": [
    "# Dicionário para armazenar os sintomas\n",
    "sintomas_pt = {}\n",
    "\n",
    "# Verifica se o arquivo já existe\n",
    "if os.path.exists('sintomas_pt.txt'):\n",
    "    # Carrega os dados do arquivo\n",
    "    with open('sintomas_pt.txt', 'r', encoding='utf-8') as f:\n",
    "        # Lê cada linha do arquivo\n",
    "        for line in f:\n",
    "            # Divide a linha no primeiro ':'\n",
    "            key, value = line.split(':', 1)\n",
    "            \n",
    "            # Remove espaços em branco extras\n",
    "            key = key.strip()\n",
    "            value = value.strip()\n",
    "            \n",
    "            # Converte a string de lista em uma lista real\n",
    "            # Isso assume que a lista está formatada como uma lista Python\n",
    "            value = eval(value)\n",
    "            \n",
    "            # Adiciona ao dicionário\n",
    "            sintomas_pt[key] = value\n",
    "\n",
    "        print(len(sintomas_pt))\n",
    "        \n",
    "else:\n",
    "    # Função para traduzir uma descrição\n",
    "    def translate_symptom(text):\n",
    "        try:\n",
    "            return GoogleTranslator(source='auto', target='portuguese').translate(text)\n",
    "        except Exception as e:\n",
    "            print(f\"Erro ao traduzir o sintoma '{text}': {e}\")\n",
    "            return None\n",
    "        \n",
    "    # Função para salvar o progresso\n",
    "    def save_progress():\n",
    "        with open('sintomas_pt.txt', 'w', encoding='utf-8') as f:\n",
    "            for key, values in sintomas_pt.items():\n",
    "                f.write(f\"{key}: {values}\\n\")\n",
    "\n",
    "    # Início do tempo\n",
    "    start = time.time()\n",
    "\n",
    "    # Cria um executor de thread\n",
    "    with concurrent.futures.ThreadPoolExecutor() as executor:\n",
    "        # Percorre o dicionário\n",
    "        for i, (key, value) in enumerate(tqdm(sintomas.items())):\n",
    "            # Inicializa a lista para a chave atual\n",
    "            sintomas_pt[key] = []\n",
    "            \n",
    "            for text in value:\n",
    "                # Verifique se passou 1 segundo desde o último lote de 5 requisições\n",
    "                if i % 5 == 0 and time.time() - start < 1:\n",
    "                    time.sleep(1 - (time.time() - start))\n",
    "                    start = time.time()\n",
    "\n",
    "                # Traduza o sintoma\n",
    "                future = executor.submit(translate_symptom, text)\n",
    "                try:\n",
    "                    result = future.result()\n",
    "                    if result is not None:\n",
    "                        # Adiciona o resultado à lista para a chave atual\n",
    "                        sintomas_pt[key].append(result)\n",
    "                except Exception as e:\n",
    "                    print(f\"Erro ao traduzir a descrição do medicamento: '{key}': {e}\")\n",
    "                    save_progress()\n",
    "\n",
    "    save_progress()\n",
    "    print(len(sintomas_pt))\n"
   ]
  },
  {
   "cell_type": "code",
   "execution_count": 63,
   "metadata": {},
   "outputs": [
    {
     "data": {
      "text/plain": [
       "['vermelho', 'colmeia', 'solavancos', 'inchaço']"
      ]
     },
     "execution_count": 63,
     "metadata": {},
     "output_type": "execute_result"
    }
   ],
   "source": [
    "sintomas_pt[\"Reumon Gel\"]"
   ]
  },
  {
   "cell_type": "markdown",
   "metadata": {},
   "source": [
    "# Costrução de um grafo"
   ]
  },
  {
   "cell_type": "code",
   "execution_count": 36,
   "metadata": {},
   "outputs": [],
   "source": [
    "import pickle\n",
    "import os\n",
    "import networkx as nx\n",
    "\n",
    "# Caminho do arquivo do grafo\n",
    "arquivo_grafo = 'grafo.pkl'\n",
    "\n",
    "# Verifica se o arquivo do grafo já existe\n",
    "if os.path.exists(arquivo_grafo):\n",
    "    # Carrega o grafo do arquivo\n",
    "    with open(arquivo_grafo, 'rb') as f:\n",
    "        G = pickle.load(f)\n",
    "else:\n",
    "    # Cria um novo grafo\n",
    "    G = nx.Graph()\n",
    "\n",
    "    # Adiciona os nós e as arestas ao grafo\n",
    "    for medicamento, lista_sintomas in sintomas_pt.items():\n",
    "        for sintoma in lista_sintomas:\n",
    "            G.add_edge(medicamento, sintoma)\n",
    "\n",
    "    # Salva o grafo no arquivo\n",
    "    with open(arquivo_grafo, 'wb') as f:\n",
    "        pickle.dump(G, f)\n"
   ]
  },
  {
   "cell_type": "markdown",
   "metadata": {},
   "source": [
    "# Amostra do gravo"
   ]
  },
  {
   "cell_type": "code",
   "execution_count": 37,
   "metadata": {},
   "outputs": [
    {
     "data": {
      "application/vnd.plotly.v1+json": {
       "config": {
        "plotlyServerURL": "https://plot.ly"
       },
       "data": [
        {
         "marker": {
          "color": [
           "black",
           "black",
           "black",
           "red",
           "black"
          ],
          "size": 10
         },
         "mode": "markers+text",
         "text": [
          "inchaço",
          "solavancos",
          "vermelho",
          "Reumon Gel",
          "colmeia"
         ],
         "type": "scatter3d",
         "x": [
          0.9081675611272807,
          0.19761097952723716,
          0.7484834235357708,
          0.7116339645289511,
          0.13465863468513606
         ],
         "y": [
          0.3997446169063248,
          0.21408273139327028,
          0.7236036972621862,
          0.8198084875510009,
          0.0750541040801379
         ],
         "z": [
          0.8059646692046745,
          0.7491098917274897,
          0.15788061399009456,
          0.3032756493413763,
          0.15485487502703255
         ]
        },
        {
         "line": {
          "color": "black"
         },
         "mode": "lines",
         "type": "scatter3d",
         "x": [
          0.9081675611272807,
          0.7116339645289511
         ],
         "y": [
          0.3997446169063248,
          0.8198084875510009
         ],
         "z": [
          0.8059646692046745,
          0.3032756493413763
         ]
        },
        {
         "line": {
          "color": "black"
         },
         "mode": "lines",
         "type": "scatter3d",
         "x": [
          0.19761097952723716,
          0.7116339645289511
         ],
         "y": [
          0.21408273139327028,
          0.8198084875510009
         ],
         "z": [
          0.7491098917274897,
          0.3032756493413763
         ]
        },
        {
         "line": {
          "color": "black"
         },
         "mode": "lines",
         "type": "scatter3d",
         "x": [
          0.7484834235357708,
          0.7116339645289511
         ],
         "y": [
          0.7236036972621862,
          0.8198084875510009
         ],
         "z": [
          0.15788061399009456,
          0.3032756493413763
         ]
        },
        {
         "line": {
          "color": "black"
         },
         "mode": "lines",
         "type": "scatter3d",
         "x": [
          0.7116339645289511,
          0.13465863468513606
         ],
         "y": [
          0.8198084875510009,
          0.0750541040801379
         ],
         "z": [
          0.3032756493413763,
          0.15485487502703255
         ]
        }
       ],
       "layout": {
        "template": {
         "data": {
          "bar": [
           {
            "error_x": {
             "color": "#2a3f5f"
            },
            "error_y": {
             "color": "#2a3f5f"
            },
            "marker": {
             "line": {
              "color": "#E5ECF6",
              "width": 0.5
             },
             "pattern": {
              "fillmode": "overlay",
              "size": 10,
              "solidity": 0.2
             }
            },
            "type": "bar"
           }
          ],
          "barpolar": [
           {
            "marker": {
             "line": {
              "color": "#E5ECF6",
              "width": 0.5
             },
             "pattern": {
              "fillmode": "overlay",
              "size": 10,
              "solidity": 0.2
             }
            },
            "type": "barpolar"
           }
          ],
          "carpet": [
           {
            "aaxis": {
             "endlinecolor": "#2a3f5f",
             "gridcolor": "white",
             "linecolor": "white",
             "minorgridcolor": "white",
             "startlinecolor": "#2a3f5f"
            },
            "baxis": {
             "endlinecolor": "#2a3f5f",
             "gridcolor": "white",
             "linecolor": "white",
             "minorgridcolor": "white",
             "startlinecolor": "#2a3f5f"
            },
            "type": "carpet"
           }
          ],
          "choropleth": [
           {
            "colorbar": {
             "outlinewidth": 0,
             "ticks": ""
            },
            "type": "choropleth"
           }
          ],
          "contour": [
           {
            "colorbar": {
             "outlinewidth": 0,
             "ticks": ""
            },
            "colorscale": [
             [
              0,
              "#0d0887"
             ],
             [
              0.1111111111111111,
              "#46039f"
             ],
             [
              0.2222222222222222,
              "#7201a8"
             ],
             [
              0.3333333333333333,
              "#9c179e"
             ],
             [
              0.4444444444444444,
              "#bd3786"
             ],
             [
              0.5555555555555556,
              "#d8576b"
             ],
             [
              0.6666666666666666,
              "#ed7953"
             ],
             [
              0.7777777777777778,
              "#fb9f3a"
             ],
             [
              0.8888888888888888,
              "#fdca26"
             ],
             [
              1,
              "#f0f921"
             ]
            ],
            "type": "contour"
           }
          ],
          "contourcarpet": [
           {
            "colorbar": {
             "outlinewidth": 0,
             "ticks": ""
            },
            "type": "contourcarpet"
           }
          ],
          "heatmap": [
           {
            "colorbar": {
             "outlinewidth": 0,
             "ticks": ""
            },
            "colorscale": [
             [
              0,
              "#0d0887"
             ],
             [
              0.1111111111111111,
              "#46039f"
             ],
             [
              0.2222222222222222,
              "#7201a8"
             ],
             [
              0.3333333333333333,
              "#9c179e"
             ],
             [
              0.4444444444444444,
              "#bd3786"
             ],
             [
              0.5555555555555556,
              "#d8576b"
             ],
             [
              0.6666666666666666,
              "#ed7953"
             ],
             [
              0.7777777777777778,
              "#fb9f3a"
             ],
             [
              0.8888888888888888,
              "#fdca26"
             ],
             [
              1,
              "#f0f921"
             ]
            ],
            "type": "heatmap"
           }
          ],
          "heatmapgl": [
           {
            "colorbar": {
             "outlinewidth": 0,
             "ticks": ""
            },
            "colorscale": [
             [
              0,
              "#0d0887"
             ],
             [
              0.1111111111111111,
              "#46039f"
             ],
             [
              0.2222222222222222,
              "#7201a8"
             ],
             [
              0.3333333333333333,
              "#9c179e"
             ],
             [
              0.4444444444444444,
              "#bd3786"
             ],
             [
              0.5555555555555556,
              "#d8576b"
             ],
             [
              0.6666666666666666,
              "#ed7953"
             ],
             [
              0.7777777777777778,
              "#fb9f3a"
             ],
             [
              0.8888888888888888,
              "#fdca26"
             ],
             [
              1,
              "#f0f921"
             ]
            ],
            "type": "heatmapgl"
           }
          ],
          "histogram": [
           {
            "marker": {
             "pattern": {
              "fillmode": "overlay",
              "size": 10,
              "solidity": 0.2
             }
            },
            "type": "histogram"
           }
          ],
          "histogram2d": [
           {
            "colorbar": {
             "outlinewidth": 0,
             "ticks": ""
            },
            "colorscale": [
             [
              0,
              "#0d0887"
             ],
             [
              0.1111111111111111,
              "#46039f"
             ],
             [
              0.2222222222222222,
              "#7201a8"
             ],
             [
              0.3333333333333333,
              "#9c179e"
             ],
             [
              0.4444444444444444,
              "#bd3786"
             ],
             [
              0.5555555555555556,
              "#d8576b"
             ],
             [
              0.6666666666666666,
              "#ed7953"
             ],
             [
              0.7777777777777778,
              "#fb9f3a"
             ],
             [
              0.8888888888888888,
              "#fdca26"
             ],
             [
              1,
              "#f0f921"
             ]
            ],
            "type": "histogram2d"
           }
          ],
          "histogram2dcontour": [
           {
            "colorbar": {
             "outlinewidth": 0,
             "ticks": ""
            },
            "colorscale": [
             [
              0,
              "#0d0887"
             ],
             [
              0.1111111111111111,
              "#46039f"
             ],
             [
              0.2222222222222222,
              "#7201a8"
             ],
             [
              0.3333333333333333,
              "#9c179e"
             ],
             [
              0.4444444444444444,
              "#bd3786"
             ],
             [
              0.5555555555555556,
              "#d8576b"
             ],
             [
              0.6666666666666666,
              "#ed7953"
             ],
             [
              0.7777777777777778,
              "#fb9f3a"
             ],
             [
              0.8888888888888888,
              "#fdca26"
             ],
             [
              1,
              "#f0f921"
             ]
            ],
            "type": "histogram2dcontour"
           }
          ],
          "mesh3d": [
           {
            "colorbar": {
             "outlinewidth": 0,
             "ticks": ""
            },
            "type": "mesh3d"
           }
          ],
          "parcoords": [
           {
            "line": {
             "colorbar": {
              "outlinewidth": 0,
              "ticks": ""
             }
            },
            "type": "parcoords"
           }
          ],
          "pie": [
           {
            "automargin": true,
            "type": "pie"
           }
          ],
          "scatter": [
           {
            "fillpattern": {
             "fillmode": "overlay",
             "size": 10,
             "solidity": 0.2
            },
            "type": "scatter"
           }
          ],
          "scatter3d": [
           {
            "line": {
             "colorbar": {
              "outlinewidth": 0,
              "ticks": ""
             }
            },
            "marker": {
             "colorbar": {
              "outlinewidth": 0,
              "ticks": ""
             }
            },
            "type": "scatter3d"
           }
          ],
          "scattercarpet": [
           {
            "marker": {
             "colorbar": {
              "outlinewidth": 0,
              "ticks": ""
             }
            },
            "type": "scattercarpet"
           }
          ],
          "scattergeo": [
           {
            "marker": {
             "colorbar": {
              "outlinewidth": 0,
              "ticks": ""
             }
            },
            "type": "scattergeo"
           }
          ],
          "scattergl": [
           {
            "marker": {
             "colorbar": {
              "outlinewidth": 0,
              "ticks": ""
             }
            },
            "type": "scattergl"
           }
          ],
          "scattermapbox": [
           {
            "marker": {
             "colorbar": {
              "outlinewidth": 0,
              "ticks": ""
             }
            },
            "type": "scattermapbox"
           }
          ],
          "scatterpolar": [
           {
            "marker": {
             "colorbar": {
              "outlinewidth": 0,
              "ticks": ""
             }
            },
            "type": "scatterpolar"
           }
          ],
          "scatterpolargl": [
           {
            "marker": {
             "colorbar": {
              "outlinewidth": 0,
              "ticks": ""
             }
            },
            "type": "scatterpolargl"
           }
          ],
          "scatterternary": [
           {
            "marker": {
             "colorbar": {
              "outlinewidth": 0,
              "ticks": ""
             }
            },
            "type": "scatterternary"
           }
          ],
          "surface": [
           {
            "colorbar": {
             "outlinewidth": 0,
             "ticks": ""
            },
            "colorscale": [
             [
              0,
              "#0d0887"
             ],
             [
              0.1111111111111111,
              "#46039f"
             ],
             [
              0.2222222222222222,
              "#7201a8"
             ],
             [
              0.3333333333333333,
              "#9c179e"
             ],
             [
              0.4444444444444444,
              "#bd3786"
             ],
             [
              0.5555555555555556,
              "#d8576b"
             ],
             [
              0.6666666666666666,
              "#ed7953"
             ],
             [
              0.7777777777777778,
              "#fb9f3a"
             ],
             [
              0.8888888888888888,
              "#fdca26"
             ],
             [
              1,
              "#f0f921"
             ]
            ],
            "type": "surface"
           }
          ],
          "table": [
           {
            "cells": {
             "fill": {
              "color": "#EBF0F8"
             },
             "line": {
              "color": "white"
             }
            },
            "header": {
             "fill": {
              "color": "#C8D4E3"
             },
             "line": {
              "color": "white"
             }
            },
            "type": "table"
           }
          ]
         },
         "layout": {
          "annotationdefaults": {
           "arrowcolor": "#2a3f5f",
           "arrowhead": 0,
           "arrowwidth": 1
          },
          "autotypenumbers": "strict",
          "coloraxis": {
           "colorbar": {
            "outlinewidth": 0,
            "ticks": ""
           }
          },
          "colorscale": {
           "diverging": [
            [
             0,
             "#8e0152"
            ],
            [
             0.1,
             "#c51b7d"
            ],
            [
             0.2,
             "#de77ae"
            ],
            [
             0.3,
             "#f1b6da"
            ],
            [
             0.4,
             "#fde0ef"
            ],
            [
             0.5,
             "#f7f7f7"
            ],
            [
             0.6,
             "#e6f5d0"
            ],
            [
             0.7,
             "#b8e186"
            ],
            [
             0.8,
             "#7fbc41"
            ],
            [
             0.9,
             "#4d9221"
            ],
            [
             1,
             "#276419"
            ]
           ],
           "sequential": [
            [
             0,
             "#0d0887"
            ],
            [
             0.1111111111111111,
             "#46039f"
            ],
            [
             0.2222222222222222,
             "#7201a8"
            ],
            [
             0.3333333333333333,
             "#9c179e"
            ],
            [
             0.4444444444444444,
             "#bd3786"
            ],
            [
             0.5555555555555556,
             "#d8576b"
            ],
            [
             0.6666666666666666,
             "#ed7953"
            ],
            [
             0.7777777777777778,
             "#fb9f3a"
            ],
            [
             0.8888888888888888,
             "#fdca26"
            ],
            [
             1,
             "#f0f921"
            ]
           ],
           "sequentialminus": [
            [
             0,
             "#0d0887"
            ],
            [
             0.1111111111111111,
             "#46039f"
            ],
            [
             0.2222222222222222,
             "#7201a8"
            ],
            [
             0.3333333333333333,
             "#9c179e"
            ],
            [
             0.4444444444444444,
             "#bd3786"
            ],
            [
             0.5555555555555556,
             "#d8576b"
            ],
            [
             0.6666666666666666,
             "#ed7953"
            ],
            [
             0.7777777777777778,
             "#fb9f3a"
            ],
            [
             0.8888888888888888,
             "#fdca26"
            ],
            [
             1,
             "#f0f921"
            ]
           ]
          },
          "colorway": [
           "#636efa",
           "#EF553B",
           "#00cc96",
           "#ab63fa",
           "#FFA15A",
           "#19d3f3",
           "#FF6692",
           "#B6E880",
           "#FF97FF",
           "#FECB52"
          ],
          "font": {
           "color": "#2a3f5f"
          },
          "geo": {
           "bgcolor": "white",
           "lakecolor": "white",
           "landcolor": "#E5ECF6",
           "showlakes": true,
           "showland": true,
           "subunitcolor": "white"
          },
          "hoverlabel": {
           "align": "left"
          },
          "hovermode": "closest",
          "mapbox": {
           "style": "light"
          },
          "paper_bgcolor": "white",
          "plot_bgcolor": "#E5ECF6",
          "polar": {
           "angularaxis": {
            "gridcolor": "white",
            "linecolor": "white",
            "ticks": ""
           },
           "bgcolor": "#E5ECF6",
           "radialaxis": {
            "gridcolor": "white",
            "linecolor": "white",
            "ticks": ""
           }
          },
          "scene": {
           "xaxis": {
            "backgroundcolor": "#E5ECF6",
            "gridcolor": "white",
            "gridwidth": 2,
            "linecolor": "white",
            "showbackground": true,
            "ticks": "",
            "zerolinecolor": "white"
           },
           "yaxis": {
            "backgroundcolor": "#E5ECF6",
            "gridcolor": "white",
            "gridwidth": 2,
            "linecolor": "white",
            "showbackground": true,
            "ticks": "",
            "zerolinecolor": "white"
           },
           "zaxis": {
            "backgroundcolor": "#E5ECF6",
            "gridcolor": "white",
            "gridwidth": 2,
            "linecolor": "white",
            "showbackground": true,
            "ticks": "",
            "zerolinecolor": "white"
           }
          },
          "shapedefaults": {
           "line": {
            "color": "#2a3f5f"
           }
          },
          "ternary": {
           "aaxis": {
            "gridcolor": "white",
            "linecolor": "white",
            "ticks": ""
           },
           "baxis": {
            "gridcolor": "white",
            "linecolor": "white",
            "ticks": ""
           },
           "bgcolor": "#E5ECF6",
           "caxis": {
            "gridcolor": "white",
            "linecolor": "white",
            "ticks": ""
           }
          },
          "title": {
           "x": 0.05
          },
          "xaxis": {
           "automargin": true,
           "gridcolor": "white",
           "linecolor": "white",
           "ticks": "",
           "title": {
            "standoff": 15
           },
           "zerolinecolor": "white",
           "zerolinewidth": 2
          },
          "yaxis": {
           "automargin": true,
           "gridcolor": "white",
           "linecolor": "white",
           "ticks": "",
           "title": {
            "standoff": 15
           },
           "zerolinecolor": "white",
           "zerolinewidth": 2
          }
         }
        }
       }
      }
     },
     "metadata": {},
     "output_type": "display_data"
    }
   ],
   "source": [
    "import plotly.graph_objects as go\n",
    "\n",
    "# Seleciona uma parte do grafo (por exemplo, os primeiros 10 nós)\n",
    "nodes = list(G.nodes())[:5]\n",
    "subgraph = G.subgraph(nodes)\n",
    "\n",
    "# Cria listas para armazenar os nós e as arestas\n",
    "nodes = list(subgraph.nodes())\n",
    "edges = list(subgraph.edges())\n",
    "colors = ['red' if node in sintomas_pt else 'black' for node in nodes]\n",
    "\n",
    "# Cria listas para armazenar as coordenadas x, y e z dos nós\n",
    "x = []\n",
    "y = []\n",
    "z = []\n",
    "\n",
    "# Gera coordenadas aleatórias para cada nó\n",
    "for _ in nodes:\n",
    "    x.append(np.random.uniform())\n",
    "    y.append(np.random.uniform())\n",
    "    z.append(np.random.uniform())\n",
    "\n",
    "# Cria um objeto Scatter3d para os nós\n",
    "nodes_trace = go.Scatter3d(x=x, y=y, z=z, mode='markers+text', text=nodes, marker=dict(size=10, color=colors))\n",
    "\n",
    "# Cria uma lista para armazenar os objetos Scatter3d para as arestas\n",
    "edges_traces = []\n",
    "\n",
    "# Percorre as arestas\n",
    "for edge in edges:\n",
    "    # Obtém as coordenadas dos nós da aresta\n",
    "    x_edge = [x[nodes.index(edge[0])], x[nodes.index(edge[1])]]\n",
    "    y_edge = [y[nodes.index(edge[0])], y[nodes.index(edge[1])]]\n",
    "    z_edge = [z[nodes.index(edge[0])], z[nodes.index(edge[1])]]\n",
    "\n",
    "    # Cria um objeto Scatter3d para a aresta\n",
    "    edges_trace = go.Scatter3d(x=x_edge, y=y_edge, z=z_edge, mode='lines', line=dict(color='black'))\n",
    "    edges_traces.append(edges_trace)\n",
    "\n",
    "# Cria um objeto Figure e adiciona os nós e as arestas\n",
    "fig = go.Figure(data=[nodes_trace] + edges_traces)\n",
    "\n",
    "# Mostra o gráfico\n",
    "fig.show()\n"
   ]
  },
  {
   "cell_type": "code",
   "execution_count": null,
   "metadata": {},
   "outputs": [],
   "source": [
    "from flask import Flask, request, render_template \n",
    "from flask_cors import CORS\n",
    "\n",
    "app = Flask(__name__)\n",
    "CORS(app)\n",
    "\n",
    "@app.route('/') # Use aspas simples ou duplas aqui\n",
    "def index(): \n",
    "  return render_template('index.html')\n",
    "\n",
    "@app.route('/bfs/', methods=['POST']) # Defina a rota /bfs/ com o método POST\n",
    "def bfs(): \n",
    "  input_string = request.form['input_string'] # Obtenha a string enviada pelo formulário\n",
    "\n",
    "  symptons = input_string.split(\",\")\n",
    "  for i in range(len(symptons)): # Um loop for para cada índice do vetor\n",
    "    symptons[i] = symptons[i].strip()\n",
    "\n",
    "  medicines = {}\n",
    "  for sympton in symptons:\n",
    "    edges = nx.bfs_edges(G, source=sympton, depth_limit=1)\n",
    "\n",
    "    for _, medicine in edges:\n",
    "      medicines[medicine] = medicines.get(medicine, 0) + 1\n",
    "\n",
    "      medicines_sorted = sorted(medicines.items(), key=lambda x: x[1], reverse=True)\n",
    "      \n",
    "  return medicines_sorted # Retorne uma resposta para a rota /bfs/\n",
    "\n",
    "if __name__ == '__main__':\n",
    "    app.run(host='0.0.0.0', debug=True, use_reloader=False)"
   ]
  }
 ],
 "metadata": {
  "kernelspec": {
   "display_name": "Python 3",
   "language": "python",
   "name": "python3"
  },
  "language_info": {
   "codemirror_mode": {
    "name": "ipython",
    "version": 3
   },
   "file_extension": ".py",
   "mimetype": "text/x-python",
   "name": "python",
   "nbconvert_exporter": "python",
   "pygments_lexer": "ipython3",
   "version": "3.11.6"
  }
 },
 "nbformat": 4,
 "nbformat_minor": 2
}
